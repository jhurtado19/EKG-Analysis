{
  "nbformat": 4,
  "nbformat_minor": 0,
  "metadata": {
    "colab": {
      "provenance": [],
      "include_colab_link": true
    },
    "kernelspec": {
      "name": "python3",
      "display_name": "Python 3"
    },
    "language_info": {
      "name": "python"
    }
  },
  "cells": [
    {
      "cell_type": "markdown",
      "metadata": {
        "id": "view-in-github",
        "colab_type": "text"
      },
      "source": [
        "<a href=\"https://colab.research.google.com/github/jhurtado19/EKG-Analysis/blob/main/justin205.ipynb\" target=\"_parent\"><img src=\"https://colab.research.google.com/assets/colab-badge.svg\" alt=\"Open In Colab\"/></a>"
      ]
    },
    {
      "cell_type": "code",
      "metadata": {
        "id": "hK7Ok6H_px16"
      },
      "source": [
        "## 205 lbs EKG analysis"
      ],
      "execution_count": null,
      "outputs": []
    },
    {
      "cell_type": "code",
      "metadata": {
        "id": "htDadLqO4_tk"
      },
      "source": [
        "from google.colab import drive\n",
        "drive.mount('/content/gdrive')"
      ],
      "execution_count": null,
      "outputs": []
    },
    {
      "cell_type": "code",
      "metadata": {
        "id": "adaoP0gr45mG"
      },
      "source": [
        "from scipy.io import wavfile\n",
        "import numpy as np\n",
        "samplerate, data = wavfile.read('/content/gdrive/MyDrive/Group 6/Final Project Data/justin_205.wav')\n",
        "print(samplerate)\n",
        "print(data)\n",
        "\n"
      ],
      "execution_count": null,
      "outputs": []
    },
    {
      "cell_type": "code",
      "metadata": {
        "id": "DnaYGOGn5fk6"
      },
      "source": [
        "import matplotlib.pyplot as plt\n",
        "plt.plot(data[0 : 100000])\n",
        "plt.xlabel('Time x (10E-4)')\n",
        "plt.ylabel('Voltage (10E-4 V)')"
      ],
      "execution_count": null,
      "outputs": []
    },
    {
      "cell_type": "code",
      "metadata": {
        "id": "sshlyJaV9n38"
      },
      "source": [
        "import matplotlib.pyplot as plt\n",
        "def averageGreater(array, lim):\n",
        "  plt.plot(array)\n",
        "  sum = 0\n",
        "  length = 0\n",
        "  i = 1\n",
        "  print(f\"Peak values greater than {lim}\")\n",
        "  while i < len(array) - 1:\n",
        "    if array[i] > lim and array[i] >= array[i-1] and array[i] >= array[i+1]:\n",
        "      print(array[i])\n",
        "      plt.vlines(i,8000,-4000)\n",
        "      sum += array[i]\n",
        "      length += 1\n",
        "      while array[i] == array[i+1]:\n",
        "        i += 1\n",
        "    i += 1\n",
        "  print(f\"Average: {sum / length}\")\n"
      ],
      "execution_count": null,
      "outputs": []
    },
    {
      "cell_type": "code",
      "metadata": {
        "id": "biAoUubSTdvY"
      },
      "source": [
        "averageGreater(data[0 : 25000],5000)"
      ],
      "execution_count": null,
      "outputs": []
    },
    {
      "cell_type": "code",
      "metadata": {
        "id": "5VEO9GOu_AD1"
      },
      "source": [
        "averageGreater(data[25000 : 50000],5000)"
      ],
      "execution_count": null,
      "outputs": []
    },
    {
      "cell_type": "code",
      "metadata": {
        "id": "s0_LEtGRBIJ3"
      },
      "source": [
        "averageGreater(data[50000 : 75000],5000)"
      ],
      "execution_count": null,
      "outputs": []
    },
    {
      "cell_type": "code",
      "metadata": {
        "id": "t6h2uAf-nYiB"
      },
      "source": [
        "averageGreater(data[75000 : 100000],5000)"
      ],
      "execution_count": null,
      "outputs": []
    }
  ]
}